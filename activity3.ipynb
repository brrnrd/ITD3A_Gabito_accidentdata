{
 "cells": [
  {
   "cell_type": "markdown",
   "id": "82fa1199-7b7a-4f2e-b395-8bf5690c32ac",
   "metadata": {},
   "source": [
    "<h1>Data Analytics Project</h1>\n",
    "<h2>United Kingdom Road Accident Data Analysis</h2>\n",
    "<h3>Inclusive years: 2019-2022</h3>"
   ]
  },
  {
   "cell_type": "code",
   "execution_count": 1,
   "id": "fa6daf59-1255-44e6-9562-f2ca6297ee48",
   "metadata": {},
   "outputs": [
    {
     "name": "stdout",
     "output_type": "stream",
     "text": [
      "Defaulting to user installation because normal site-packages is not writeable\n",
      "Requirement already satisfied: numpy in c:\\users\\lab5-studentpc06\\appdata\\local\\packages\\pythonsoftwarefoundation.python.3.13_qbz5n2kfra8p0\\localcache\\local-packages\\python313\\site-packages (2.2.2)\n",
      "Requirement already satisfied: pandas in c:\\users\\lab5-studentpc06\\appdata\\local\\packages\\pythonsoftwarefoundation.python.3.13_qbz5n2kfra8p0\\localcache\\local-packages\\python313\\site-packages (2.2.3)\n",
      "Requirement already satisfied: seaborn in c:\\users\\lab5-studentpc06\\appdata\\local\\packages\\pythonsoftwarefoundation.python.3.13_qbz5n2kfra8p0\\localcache\\local-packages\\python313\\site-packages (0.13.2)\n",
      "Requirement already satisfied: matplotlib in c:\\users\\lab5-studentpc06\\appdata\\local\\packages\\pythonsoftwarefoundation.python.3.13_qbz5n2kfra8p0\\localcache\\local-packages\\python313\\site-packages (3.10.0)\n",
      "Requirement already satisfied: python-dateutil>=2.8.2 in c:\\users\\lab5-studentpc06\\appdata\\local\\packages\\pythonsoftwarefoundation.python.3.13_qbz5n2kfra8p0\\localcache\\local-packages\\python313\\site-packages (from pandas) (2.9.0.post0)\n",
      "Requirement already satisfied: pytz>=2020.1 in c:\\users\\lab5-studentpc06\\appdata\\local\\packages\\pythonsoftwarefoundation.python.3.13_qbz5n2kfra8p0\\localcache\\local-packages\\python313\\site-packages (from pandas) (2024.2)\n",
      "Requirement already satisfied: tzdata>=2022.7 in c:\\users\\lab5-studentpc06\\appdata\\local\\packages\\pythonsoftwarefoundation.python.3.13_qbz5n2kfra8p0\\localcache\\local-packages\\python313\\site-packages (from pandas) (2024.2)\n",
      "Requirement already satisfied: contourpy>=1.0.1 in c:\\users\\lab5-studentpc06\\appdata\\local\\packages\\pythonsoftwarefoundation.python.3.13_qbz5n2kfra8p0\\localcache\\local-packages\\python313\\site-packages (from matplotlib) (1.3.1)\n",
      "Requirement already satisfied: cycler>=0.10 in c:\\users\\lab5-studentpc06\\appdata\\local\\packages\\pythonsoftwarefoundation.python.3.13_qbz5n2kfra8p0\\localcache\\local-packages\\python313\\site-packages (from matplotlib) (0.12.1)\n",
      "Requirement already satisfied: fonttools>=4.22.0 in c:\\users\\lab5-studentpc06\\appdata\\local\\packages\\pythonsoftwarefoundation.python.3.13_qbz5n2kfra8p0\\localcache\\local-packages\\python313\\site-packages (from matplotlib) (4.55.3)\n",
      "Requirement already satisfied: kiwisolver>=1.3.1 in c:\\users\\lab5-studentpc06\\appdata\\local\\packages\\pythonsoftwarefoundation.python.3.13_qbz5n2kfra8p0\\localcache\\local-packages\\python313\\site-packages (from matplotlib) (1.4.8)\n",
      "Requirement already satisfied: packaging>=20.0 in c:\\users\\lab5-studentpc06\\appdata\\local\\packages\\pythonsoftwarefoundation.python.3.13_qbz5n2kfra8p0\\localcache\\local-packages\\python313\\site-packages (from matplotlib) (24.2)\n",
      "Requirement already satisfied: pillow>=8 in c:\\users\\lab5-studentpc06\\appdata\\local\\packages\\pythonsoftwarefoundation.python.3.13_qbz5n2kfra8p0\\localcache\\local-packages\\python313\\site-packages (from matplotlib) (11.1.0)\n",
      "Requirement already satisfied: pyparsing>=2.3.1 in c:\\users\\lab5-studentpc06\\appdata\\local\\packages\\pythonsoftwarefoundation.python.3.13_qbz5n2kfra8p0\\localcache\\local-packages\\python313\\site-packages (from matplotlib) (3.2.1)\n",
      "Requirement already satisfied: six>=1.5 in c:\\users\\lab5-studentpc06\\appdata\\local\\packages\\pythonsoftwarefoundation.python.3.13_qbz5n2kfra8p0\\localcache\\local-packages\\python313\\site-packages (from python-dateutil>=2.8.2->pandas) (1.17.0)\n",
      "Note: you may need to restart the kernel to use updated packages.\n"
     ]
    }
   ],
   "source": [
    "pip install numpy pandas seaborn matplotlib"
   ]
  },
  {
   "cell_type": "markdown",
   "id": "8d6d1776-dc76-4122-999b-d56dc60b06e2",
   "metadata": {},
   "source": [
    "<h2>IMPORTING LIBRARIES</h2>"
   ]
  },
  {
   "cell_type": "code",
   "execution_count": 2,
   "id": "e1269ee9-fea0-46d7-b981-75bf7a25e115",
   "metadata": {},
   "outputs": [],
   "source": [
    "import numpy as np \n",
    "import pandas as pd \n",
    "import seaborn as sns \n",
    "import matplotlib.pyplot as plt\n",
    "import warnings\n",
    "warnings.filterwarnings('ignore')"
   ]
  },
  {
   "cell_type": "code",
   "execution_count": 3,
   "id": "a94b4f5e-c002-4c51-bc04-f4bcf4da5dd9",
   "metadata": {},
   "outputs": [],
   "source": [
    "accident = pd.read_csv('C:\\\\Users\\\\LAB5-StudentPC06\\\\Desktop\\\\ITD3A\\\\dataset\\\\accident_data.csv')"
   ]
  },
  {
   "cell_type": "code",
   "execution_count": 4,
   "id": "d5ff6747-e622-4dce-8fa5-ac4a0c375973",
   "metadata": {},
   "outputs": [],
   "source": [
    "# accident = pd.read_csv('C:\\\\Users\\\\User\\\\Desktop\\\\ITD3A\\\\dataset\\\\accident_data.csv')"
   ]
  },
  {
   "cell_type": "markdown",
   "id": "2b363915-47d2-42f3-9097-cf6a014094a7",
   "metadata": {},
   "source": [
    "<H1>DATA PREPARATION</H1>"
   ]
  },
  {
   "cell_type": "code",
   "execution_count": 5,
   "id": "28e3d671-3bb7-4d0c-8571-56330baac948",
   "metadata": {},
   "outputs": [
    {
     "data": {
      "text/html": [
       "<div>\n",
       "<style scoped>\n",
       "    .dataframe tbody tr th:only-of-type {\n",
       "        vertical-align: middle;\n",
       "    }\n",
       "\n",
       "    .dataframe tbody tr th {\n",
       "        vertical-align: top;\n",
       "    }\n",
       "\n",
       "    .dataframe thead th {\n",
       "        text-align: right;\n",
       "    }\n",
       "</style>\n",
       "<table border=\"1\" class=\"dataframe\">\n",
       "  <thead>\n",
       "    <tr style=\"text-align: right;\">\n",
       "      <th></th>\n",
       "      <th>Index</th>\n",
       "      <th>Accident_Severity</th>\n",
       "      <th>Accident Date</th>\n",
       "      <th>Latitude</th>\n",
       "      <th>Light_Conditions</th>\n",
       "      <th>District Area</th>\n",
       "      <th>Longitude</th>\n",
       "      <th>Number_of_Casualties</th>\n",
       "      <th>Number_of_Vehicles</th>\n",
       "      <th>Road_Surface_Conditions</th>\n",
       "      <th>Road_Type</th>\n",
       "      <th>Urban_or_Rural_Area</th>\n",
       "      <th>Weather_Conditions</th>\n",
       "      <th>Vehicle_Type</th>\n",
       "    </tr>\n",
       "  </thead>\n",
       "  <tbody>\n",
       "    <tr>\n",
       "      <th>0</th>\n",
       "      <td>200701BS64157</td>\n",
       "      <td>Serious</td>\n",
       "      <td>05/06/2019</td>\n",
       "      <td>51.506187</td>\n",
       "      <td>Darkness - lights lit</td>\n",
       "      <td>Kensington and Chelsea</td>\n",
       "      <td>-0.209082</td>\n",
       "      <td>1</td>\n",
       "      <td>2</td>\n",
       "      <td>Dry</td>\n",
       "      <td>Single carriageway</td>\n",
       "      <td>Urban</td>\n",
       "      <td>Fine no high winds</td>\n",
       "      <td>Car</td>\n",
       "    </tr>\n",
       "    <tr>\n",
       "      <th>1</th>\n",
       "      <td>200701BS65737</td>\n",
       "      <td>Serious</td>\n",
       "      <td>02/07/2019</td>\n",
       "      <td>51.495029</td>\n",
       "      <td>Daylight</td>\n",
       "      <td>Kensington and Chelsea</td>\n",
       "      <td>-0.173647</td>\n",
       "      <td>1</td>\n",
       "      <td>2</td>\n",
       "      <td>Wet or damp</td>\n",
       "      <td>Single carriageway</td>\n",
       "      <td>Urban</td>\n",
       "      <td>Raining no high winds</td>\n",
       "      <td>Car</td>\n",
       "    </tr>\n",
       "    <tr>\n",
       "      <th>2</th>\n",
       "      <td>200701BS66127</td>\n",
       "      <td>Serious</td>\n",
       "      <td>26/08/2019</td>\n",
       "      <td>51.517715</td>\n",
       "      <td>Darkness - lighting unknown</td>\n",
       "      <td>Kensington and Chelsea</td>\n",
       "      <td>-0.210215</td>\n",
       "      <td>1</td>\n",
       "      <td>3</td>\n",
       "      <td>Dry</td>\n",
       "      <td>NaN</td>\n",
       "      <td>Urban</td>\n",
       "      <td>NaN</td>\n",
       "      <td>Taxi/Private hire car</td>\n",
       "    </tr>\n",
       "    <tr>\n",
       "      <th>3</th>\n",
       "      <td>200701BS66128</td>\n",
       "      <td>Serious</td>\n",
       "      <td>16/08/2019</td>\n",
       "      <td>51.495478</td>\n",
       "      <td>Daylight</td>\n",
       "      <td>Kensington and Chelsea</td>\n",
       "      <td>-0.202731</td>\n",
       "      <td>1</td>\n",
       "      <td>4</td>\n",
       "      <td>Dry</td>\n",
       "      <td>Single carriageway</td>\n",
       "      <td>Urban</td>\n",
       "      <td>Fine no high winds</td>\n",
       "      <td>Bus or coach (17 or more pass seats)</td>\n",
       "    </tr>\n",
       "    <tr>\n",
       "      <th>4</th>\n",
       "      <td>200701BS66837</td>\n",
       "      <td>Slight</td>\n",
       "      <td>03/09/2019</td>\n",
       "      <td>51.488576</td>\n",
       "      <td>Darkness - lights lit</td>\n",
       "      <td>Kensington and Chelsea</td>\n",
       "      <td>-0.192487</td>\n",
       "      <td>1</td>\n",
       "      <td>2</td>\n",
       "      <td>Dry</td>\n",
       "      <td>NaN</td>\n",
       "      <td>Urban</td>\n",
       "      <td>NaN</td>\n",
       "      <td>Other vehicle</td>\n",
       "    </tr>\n",
       "    <tr>\n",
       "      <th>...</th>\n",
       "      <td>...</td>\n",
       "      <td>...</td>\n",
       "      <td>...</td>\n",
       "      <td>...</td>\n",
       "      <td>...</td>\n",
       "      <td>...</td>\n",
       "      <td>...</td>\n",
       "      <td>...</td>\n",
       "      <td>...</td>\n",
       "      <td>...</td>\n",
       "      <td>...</td>\n",
       "      <td>...</td>\n",
       "      <td>...</td>\n",
       "      <td>...</td>\n",
       "    </tr>\n",
       "    <tr>\n",
       "      <th>660674</th>\n",
       "      <td>201091NM01760</td>\n",
       "      <td>Slight</td>\n",
       "      <td>18/02/2022</td>\n",
       "      <td>57.374005</td>\n",
       "      <td>Daylight</td>\n",
       "      <td>Highland</td>\n",
       "      <td>-3.467828</td>\n",
       "      <td>2</td>\n",
       "      <td>1</td>\n",
       "      <td>Dry</td>\n",
       "      <td>Single carriageway</td>\n",
       "      <td>Rural</td>\n",
       "      <td>Fine no high winds</td>\n",
       "      <td>Car</td>\n",
       "    </tr>\n",
       "    <tr>\n",
       "      <th>660675</th>\n",
       "      <td>201091NM01881</td>\n",
       "      <td>Slight</td>\n",
       "      <td>21/02/2022</td>\n",
       "      <td>57.232273</td>\n",
       "      <td>Darkness - no lighting</td>\n",
       "      <td>Highland</td>\n",
       "      <td>-3.809281</td>\n",
       "      <td>1</td>\n",
       "      <td>1</td>\n",
       "      <td>Frost or ice</td>\n",
       "      <td>Single carriageway</td>\n",
       "      <td>Rural</td>\n",
       "      <td>Fine no high winds</td>\n",
       "      <td>Car</td>\n",
       "    </tr>\n",
       "    <tr>\n",
       "      <th>660676</th>\n",
       "      <td>201091NM01935</td>\n",
       "      <td>Slight</td>\n",
       "      <td>23/02/2022</td>\n",
       "      <td>57.585044</td>\n",
       "      <td>Daylight</td>\n",
       "      <td>Highland</td>\n",
       "      <td>-3.862727</td>\n",
       "      <td>1</td>\n",
       "      <td>3</td>\n",
       "      <td>Frost or ice</td>\n",
       "      <td>Single carriageway</td>\n",
       "      <td>Rural</td>\n",
       "      <td>Fine no high winds</td>\n",
       "      <td>Car</td>\n",
       "    </tr>\n",
       "    <tr>\n",
       "      <th>660677</th>\n",
       "      <td>201091NM01964</td>\n",
       "      <td>Serious</td>\n",
       "      <td>23/02/2022</td>\n",
       "      <td>57.214898</td>\n",
       "      <td>Darkness - no lighting</td>\n",
       "      <td>Highland</td>\n",
       "      <td>-3.823997</td>\n",
       "      <td>1</td>\n",
       "      <td>2</td>\n",
       "      <td>Wet or damp</td>\n",
       "      <td>Single carriageway</td>\n",
       "      <td>Rural</td>\n",
       "      <td>Fine no high winds</td>\n",
       "      <td>Motorcycle over 500cc</td>\n",
       "    </tr>\n",
       "    <tr>\n",
       "      <th>660678</th>\n",
       "      <td>201091NM02142</td>\n",
       "      <td>Serious</td>\n",
       "      <td>28/02/2022</td>\n",
       "      <td>57.575210</td>\n",
       "      <td>Daylight</td>\n",
       "      <td>Highland</td>\n",
       "      <td>-3.895673</td>\n",
       "      <td>1</td>\n",
       "      <td>1</td>\n",
       "      <td>Wet or damp</td>\n",
       "      <td>Dual carriageway</td>\n",
       "      <td>Rural</td>\n",
       "      <td>Snowing no high winds</td>\n",
       "      <td>Car</td>\n",
       "    </tr>\n",
       "  </tbody>\n",
       "</table>\n",
       "<p>660679 rows × 14 columns</p>\n",
       "</div>"
      ],
      "text/plain": [
       "                Index Accident_Severity Accident Date   Latitude  \\\n",
       "0       200701BS64157           Serious    05/06/2019  51.506187   \n",
       "1       200701BS65737           Serious    02/07/2019  51.495029   \n",
       "2       200701BS66127           Serious    26/08/2019  51.517715   \n",
       "3       200701BS66128           Serious    16/08/2019  51.495478   \n",
       "4       200701BS66837            Slight    03/09/2019  51.488576   \n",
       "...               ...               ...           ...        ...   \n",
       "660674  201091NM01760            Slight    18/02/2022  57.374005   \n",
       "660675  201091NM01881            Slight    21/02/2022  57.232273   \n",
       "660676  201091NM01935            Slight    23/02/2022  57.585044   \n",
       "660677  201091NM01964           Serious    23/02/2022  57.214898   \n",
       "660678  201091NM02142           Serious    28/02/2022  57.575210   \n",
       "\n",
       "                   Light_Conditions           District Area  Longitude  \\\n",
       "0             Darkness - lights lit  Kensington and Chelsea  -0.209082   \n",
       "1                          Daylight  Kensington and Chelsea  -0.173647   \n",
       "2       Darkness - lighting unknown  Kensington and Chelsea  -0.210215   \n",
       "3                          Daylight  Kensington and Chelsea  -0.202731   \n",
       "4             Darkness - lights lit  Kensington and Chelsea  -0.192487   \n",
       "...                             ...                     ...        ...   \n",
       "660674                     Daylight                Highland  -3.467828   \n",
       "660675       Darkness - no lighting                Highland  -3.809281   \n",
       "660676                     Daylight                Highland  -3.862727   \n",
       "660677       Darkness - no lighting                Highland  -3.823997   \n",
       "660678                     Daylight                Highland  -3.895673   \n",
       "\n",
       "        Number_of_Casualties  Number_of_Vehicles Road_Surface_Conditions  \\\n",
       "0                          1                   2                     Dry   \n",
       "1                          1                   2             Wet or damp   \n",
       "2                          1                   3                     Dry   \n",
       "3                          1                   4                     Dry   \n",
       "4                          1                   2                     Dry   \n",
       "...                      ...                 ...                     ...   \n",
       "660674                     2                   1                     Dry   \n",
       "660675                     1                   1            Frost or ice   \n",
       "660676                     1                   3            Frost or ice   \n",
       "660677                     1                   2             Wet or damp   \n",
       "660678                     1                   1             Wet or damp   \n",
       "\n",
       "                 Road_Type Urban_or_Rural_Area     Weather_Conditions  \\\n",
       "0       Single carriageway               Urban     Fine no high winds   \n",
       "1       Single carriageway               Urban  Raining no high winds   \n",
       "2                      NaN               Urban                    NaN   \n",
       "3       Single carriageway               Urban     Fine no high winds   \n",
       "4                      NaN               Urban                    NaN   \n",
       "...                    ...                 ...                    ...   \n",
       "660674  Single carriageway               Rural     Fine no high winds   \n",
       "660675  Single carriageway               Rural     Fine no high winds   \n",
       "660676  Single carriageway               Rural     Fine no high winds   \n",
       "660677  Single carriageway               Rural     Fine no high winds   \n",
       "660678    Dual carriageway               Rural  Snowing no high winds   \n",
       "\n",
       "                                Vehicle_Type  \n",
       "0                                        Car  \n",
       "1                                        Car  \n",
       "2                      Taxi/Private hire car  \n",
       "3       Bus or coach (17 or more pass seats)  \n",
       "4                              Other vehicle  \n",
       "...                                      ...  \n",
       "660674                                   Car  \n",
       "660675                                   Car  \n",
       "660676                                   Car  \n",
       "660677                 Motorcycle over 500cc  \n",
       "660678                                   Car  \n",
       "\n",
       "[660679 rows x 14 columns]"
      ]
     },
     "execution_count": 5,
     "metadata": {},
     "output_type": "execute_result"
    }
   ],
   "source": [
    "accident"
   ]
  },
  {
   "cell_type": "code",
   "execution_count": 6,
   "id": "82335737-e342-4469-9f3b-2b08f9067827",
   "metadata": {},
   "outputs": [
    {
     "name": "stdout",
     "output_type": "stream",
     "text": [
      "<class 'pandas.core.frame.DataFrame'>\n",
      "RangeIndex: 660679 entries, 0 to 660678\n",
      "Data columns (total 14 columns):\n",
      " #   Column                   Non-Null Count   Dtype  \n",
      "---  ------                   --------------   -----  \n",
      " 0   Index                    660679 non-null  object \n",
      " 1   Accident_Severity        660679 non-null  object \n",
      " 2   Accident Date            660679 non-null  object \n",
      " 3   Latitude                 660654 non-null  float64\n",
      " 4   Light_Conditions         660679 non-null  object \n",
      " 5   District Area            660679 non-null  object \n",
      " 6   Longitude                660653 non-null  float64\n",
      " 7   Number_of_Casualties     660679 non-null  int64  \n",
      " 8   Number_of_Vehicles       660679 non-null  int64  \n",
      " 9   Road_Surface_Conditions  659953 non-null  object \n",
      " 10  Road_Type                656159 non-null  object \n",
      " 11  Urban_or_Rural_Area      660664 non-null  object \n",
      " 12  Weather_Conditions       646551 non-null  object \n",
      " 13  Vehicle_Type             660679 non-null  object \n",
      "dtypes: float64(2), int64(2), object(10)\n",
      "memory usage: 70.6+ MB\n"
     ]
    }
   ],
   "source": [
    "accident.info()"
   ]
  },
  {
   "cell_type": "code",
   "execution_count": 7,
   "id": "fb023ef9-87d9-462a-8300-da2f678b10e0",
   "metadata": {},
   "outputs": [
    {
     "data": {
      "text/plain": [
       "Index                       object\n",
       "Accident_Severity           object\n",
       "Accident Date               object\n",
       "Latitude                   float64\n",
       "Light_Conditions            object\n",
       "District Area               object\n",
       "Longitude                  float64\n",
       "Number_of_Casualties         int64\n",
       "Number_of_Vehicles           int64\n",
       "Road_Surface_Conditions     object\n",
       "Road_Type                   object\n",
       "Urban_or_Rural_Area         object\n",
       "Weather_Conditions          object\n",
       "Vehicle_Type                object\n",
       "dtype: object"
      ]
     },
     "execution_count": 7,
     "metadata": {},
     "output_type": "execute_result"
    }
   ],
   "source": [
    "accident.dtypes"
   ]
  },
  {
   "cell_type": "code",
   "execution_count": 8,
   "id": "4f27a3fa-df90-41a2-b6e0-18ea96e6ba17",
   "metadata": {},
   "outputs": [
    {
     "data": {
      "text/html": [
       "<div>\n",
       "<style scoped>\n",
       "    .dataframe tbody tr th:only-of-type {\n",
       "        vertical-align: middle;\n",
       "    }\n",
       "\n",
       "    .dataframe tbody tr th {\n",
       "        vertical-align: top;\n",
       "    }\n",
       "\n",
       "    .dataframe thead th {\n",
       "        text-align: right;\n",
       "    }\n",
       "</style>\n",
       "<table border=\"1\" class=\"dataframe\">\n",
       "  <thead>\n",
       "    <tr style=\"text-align: right;\">\n",
       "      <th></th>\n",
       "      <th>Latitude</th>\n",
       "      <th>Longitude</th>\n",
       "      <th>Number_of_Casualties</th>\n",
       "      <th>Number_of_Vehicles</th>\n",
       "    </tr>\n",
       "  </thead>\n",
       "  <tbody>\n",
       "    <tr>\n",
       "      <th>count</th>\n",
       "      <td>660654.000000</td>\n",
       "      <td>660653.000000</td>\n",
       "      <td>660679.000000</td>\n",
       "      <td>660679.000000</td>\n",
       "    </tr>\n",
       "    <tr>\n",
       "      <th>mean</th>\n",
       "      <td>52.553866</td>\n",
       "      <td>-1.431210</td>\n",
       "      <td>1.357040</td>\n",
       "      <td>1.831255</td>\n",
       "    </tr>\n",
       "    <tr>\n",
       "      <th>std</th>\n",
       "      <td>1.406922</td>\n",
       "      <td>1.383330</td>\n",
       "      <td>0.824847</td>\n",
       "      <td>0.715269</td>\n",
       "    </tr>\n",
       "    <tr>\n",
       "      <th>min</th>\n",
       "      <td>49.914430</td>\n",
       "      <td>-7.516225</td>\n",
       "      <td>1.000000</td>\n",
       "      <td>1.000000</td>\n",
       "    </tr>\n",
       "    <tr>\n",
       "      <th>25%</th>\n",
       "      <td>51.490690</td>\n",
       "      <td>-2.332291</td>\n",
       "      <td>1.000000</td>\n",
       "      <td>1.000000</td>\n",
       "    </tr>\n",
       "    <tr>\n",
       "      <th>50%</th>\n",
       "      <td>52.315641</td>\n",
       "      <td>-1.411667</td>\n",
       "      <td>1.000000</td>\n",
       "      <td>2.000000</td>\n",
       "    </tr>\n",
       "    <tr>\n",
       "      <th>75%</th>\n",
       "      <td>53.453452</td>\n",
       "      <td>-0.232869</td>\n",
       "      <td>1.000000</td>\n",
       "      <td>2.000000</td>\n",
       "    </tr>\n",
       "    <tr>\n",
       "      <th>max</th>\n",
       "      <td>60.757544</td>\n",
       "      <td>1.762010</td>\n",
       "      <td>68.000000</td>\n",
       "      <td>32.000000</td>\n",
       "    </tr>\n",
       "  </tbody>\n",
       "</table>\n",
       "</div>"
      ],
      "text/plain": [
       "            Latitude      Longitude  Number_of_Casualties  Number_of_Vehicles\n",
       "count  660654.000000  660653.000000         660679.000000       660679.000000\n",
       "mean       52.553866      -1.431210              1.357040            1.831255\n",
       "std         1.406922       1.383330              0.824847            0.715269\n",
       "min        49.914430      -7.516225              1.000000            1.000000\n",
       "25%        51.490690      -2.332291              1.000000            1.000000\n",
       "50%        52.315641      -1.411667              1.000000            2.000000\n",
       "75%        53.453452      -0.232869              1.000000            2.000000\n",
       "max        60.757544       1.762010             68.000000           32.000000"
      ]
     },
     "execution_count": 8,
     "metadata": {},
     "output_type": "execute_result"
    }
   ],
   "source": [
    "accident.describe()"
   ]
  },
  {
   "cell_type": "code",
   "execution_count": 9,
   "id": "56d15428-30bb-45c4-ad9c-65dff935a9a3",
   "metadata": {},
   "outputs": [],
   "source": [
    "accident['Accident_Severity'] = accident['Accident_Severity'].astype('category')"
   ]
  },
  {
   "cell_type": "code",
   "execution_count": null,
   "id": "5beab260-69da-4f75-96c4-f1cd8f4e20b2",
   "metadata": {},
   "outputs": [],
   "source": []
  },
  {
   "cell_type": "code",
   "execution_count": 10,
   "id": "70e07a4d-e627-4184-b268-fbdf2a8db039",
   "metadata": {},
   "outputs": [
    {
     "data": {
      "text/plain": [
       "Index                        object\n",
       "Accident_Severity          category\n",
       "Accident Date                object\n",
       "Latitude                    float64\n",
       "Light_Conditions             object\n",
       "District Area                object\n",
       "Longitude                   float64\n",
       "Number_of_Casualties          int64\n",
       "Number_of_Vehicles            int64\n",
       "Road_Surface_Conditions      object\n",
       "Road_Type                    object\n",
       "Urban_or_Rural_Area          object\n",
       "Weather_Conditions           object\n",
       "Vehicle_Type                 object\n",
       "dtype: object"
      ]
     },
     "execution_count": 10,
     "metadata": {},
     "output_type": "execute_result"
    }
   ],
   "source": [
    "accident.dtypes"
   ]
  },
  {
   "cell_type": "markdown",
   "id": "455d0025-dfb5-4f34-b6a1-2156b8d8a359",
   "metadata": {},
   "source": [
    "<h3>Converting Object to DateTime Data Type</h3>"
   ]
  },
  {
   "cell_type": "code",
   "execution_count": 11,
   "id": "ad1c3577-b07f-4c9d-9ef9-e035cca372c2",
   "metadata": {},
   "outputs": [],
   "source": [
    "accident['Accident Date'] = pd.to_datetime(accident['Accident Date'] , dayfirst = True, errors = 'coerce')"
   ]
  },
  {
   "cell_type": "code",
   "execution_count": 12,
   "id": "7c0262fa-9b35-4dec-bb29-493f0dc4484d",
   "metadata": {},
   "outputs": [
    {
     "data": {
      "text/plain": [
       "Index                              object\n",
       "Accident_Severity                category\n",
       "Accident Date              datetime64[ns]\n",
       "Latitude                          float64\n",
       "Light_Conditions                   object\n",
       "District Area                      object\n",
       "Longitude                         float64\n",
       "Number_of_Casualties                int64\n",
       "Number_of_Vehicles                  int64\n",
       "Road_Surface_Conditions            object\n",
       "Road_Type                          object\n",
       "Urban_or_Rural_Area                object\n",
       "Weather_Conditions                 object\n",
       "Vehicle_Type                       object\n",
       "dtype: object"
      ]
     },
     "execution_count": 12,
     "metadata": {},
     "output_type": "execute_result"
    }
   ],
   "source": [
    "accident.dtypes"
   ]
  },
  {
   "cell_type": "code",
   "execution_count": 13,
   "id": "3236e9bd-f75a-4534-a1bf-1ed61024f205",
   "metadata": {},
   "outputs": [
    {
     "data": {
      "text/plain": [
       "Index                          0\n",
       "Accident_Severity              0\n",
       "Accident Date                  0\n",
       "Latitude                      25\n",
       "Light_Conditions               0\n",
       "District Area                  0\n",
       "Longitude                     26\n",
       "Number_of_Casualties           0\n",
       "Number_of_Vehicles             0\n",
       "Road_Surface_Conditions      726\n",
       "Road_Type                   4520\n",
       "Urban_or_Rural_Area           15\n",
       "Weather_Conditions         14128\n",
       "Vehicle_Type                   0\n",
       "dtype: int64"
      ]
     },
     "execution_count": 13,
     "metadata": {},
     "output_type": "execute_result"
    }
   ],
   "source": [
    "accident.isnull().sum()"
   ]
  },
  {
   "cell_type": "code",
   "execution_count": 14,
   "id": "fb5f329b-7546-4f4a-8ed8-d46d0ab58935",
   "metadata": {},
   "outputs": [],
   "source": [
    "accident['Latitude'] = accident['Latitude'].fillna(accident['Latitude'].mode()[0])\n",
    "accident['Longitude'] = accident['Longitude'].fillna(accident['Longitude'].mode()[0])\n",
    "accident['Road_Surface_Conditions'] = accident['Road_Surface_Conditions'].fillna('unknown')\n",
    "accident['Road_Type'] = accident['Road_Type'].fillna(accident['Road_Type'].mode()[0])\n",
    "accident['Urban_or_Rural_Area'] = accident['Urban_or_Rural_Area'].fillna(accident['Urban_or_Rural_Area'].mode()[0])\n",
    "accident['Weather_Conditions'] = accident['Weather_Conditions'].fillna('unknown')"
   ]
  },
  {
   "cell_type": "code",
   "execution_count": 15,
   "id": "d14f5ab2-9be0-4b55-88bd-f6d479e0939a",
   "metadata": {},
   "outputs": [],
   "source": [
    "accident['Year'] = accident['Accident Date'].dt.year\n",
    "accident['Month'] = accident['Accident Date'].dt.month\n",
    "accident['Day'] = accident['Accident Date'].dt.day\n",
    "accident['DayofWeek'] = accident['Accident Date'].dt.dayofweek"
   ]
  },
  {
   "cell_type": "code",
   "execution_count": null,
   "id": "59cdd1b3-6225-4bb1-be2c-e8c0b3dd7839",
   "metadata": {
    "scrolled": true
   },
   "outputs": [],
   "source": []
  },
  {
   "cell_type": "code",
   "execution_count": 16,
   "id": "c7749f1d-4f78-428e-9feb-e573a6799174",
   "metadata": {},
   "outputs": [],
   "source": [
    "accident['Index'] = accident['Index'].astype('category')\n",
    "accident['Light_Conditions'] = accident['Light_Conditions'].astype('category')\n",
    "accident['Latitude'] = accident['Latitude'].astype('category')\n",
    "accident['Longitude'] = accident['Longitude'].astype('category')\n",
    "accident['District Area'] = accident['District Area'].astype('category')\n",
    "accident['Road_Type'] = accident['Road_Type'].astype('category')\n",
    "accident['Urban_or_Rural_Area'] = accident['Urban_or_Rural_Area'].astype('category')\n",
    "accident['Year'] = accident['Year'].astype('category')\n",
    "accident['Month'] = accident['Month'].astype('category')\n",
    "accident['Day'] = accident['Day'].astype('category')\n",
    "accident['DayofWeek'] = accident['DayofWeek'].astype('category')"
   ]
  },
  {
   "cell_type": "code",
   "execution_count": 17,
   "id": "6f2a9725-4461-4f28-a73a-d451e7063004",
   "metadata": {},
   "outputs": [
    {
     "data": {
      "text/plain": [
       "Index                            category\n",
       "Accident_Severity                category\n",
       "Accident Date              datetime64[ns]\n",
       "Latitude                         category\n",
       "Light_Conditions                 category\n",
       "District Area                    category\n",
       "Longitude                        category\n",
       "Number_of_Casualties                int64\n",
       "Number_of_Vehicles                  int64\n",
       "Road_Surface_Conditions            object\n",
       "Road_Type                        category\n",
       "Urban_or_Rural_Area              category\n",
       "Weather_Conditions                 object\n",
       "Vehicle_Type                       object\n",
       "Year                             category\n",
       "Month                            category\n",
       "Day                              category\n",
       "DayofWeek                        category\n",
       "dtype: object"
      ]
     },
     "execution_count": 17,
     "metadata": {},
     "output_type": "execute_result"
    }
   ],
   "source": [
    "accident.dtypes"
   ]
  },
  {
   "cell_type": "code",
   "execution_count": 18,
   "id": "a3188882-e32d-46fd-a31e-586c33d57579",
   "metadata": {},
   "outputs": [
    {
     "data": {
      "text/plain": [
       "Index                      0\n",
       "Accident_Severity          0\n",
       "Accident Date              0\n",
       "Latitude                   0\n",
       "Light_Conditions           0\n",
       "District Area              0\n",
       "Longitude                  0\n",
       "Number_of_Casualties       0\n",
       "Number_of_Vehicles         0\n",
       "Road_Surface_Conditions    0\n",
       "Road_Type                  0\n",
       "Urban_or_Rural_Area        0\n",
       "Weather_Conditions         0\n",
       "Vehicle_Type               0\n",
       "Year                       0\n",
       "Month                      0\n",
       "Day                        0\n",
       "DayofWeek                  0\n",
       "dtype: int64"
      ]
     },
     "execution_count": 18,
     "metadata": {},
     "output_type": "execute_result"
    }
   ],
   "source": [
    "accident.isnull().sum()"
   ]
  },
  {
   "cell_type": "code",
   "execution_count": 19,
   "id": "7a13496f-dba2-43b8-8244-d47328ee9214",
   "metadata": {},
   "outputs": [],
   "source": [
    "accident['Year'] = accident['Accident Date'].dt.year\n",
    "accident['Month'] = accident['Accident Date'].dt.month\n",
    "accident['Day'] = accident['Accident Date'].dt.day\n",
    "accident['DayofWeek'] = accident['Accident Date'].dt.dayofweek"
   ]
  },
  {
   "cell_type": "code",
   "execution_count": 20,
   "id": "4a982756-43b4-4506-ae0e-4eed208d2c82",
   "metadata": {},
   "outputs": [
    {
     "data": {
      "text/plain": [
       "Index                      0\n",
       "Accident_Severity          0\n",
       "Accident Date              0\n",
       "Latitude                   0\n",
       "Light_Conditions           0\n",
       "District Area              0\n",
       "Longitude                  0\n",
       "Number_of_Casualties       0\n",
       "Number_of_Vehicles         0\n",
       "Road_Surface_Conditions    0\n",
       "Road_Type                  0\n",
       "Urban_or_Rural_Area        0\n",
       "Weather_Conditions         0\n",
       "Vehicle_Type               0\n",
       "Year                       0\n",
       "Month                      0\n",
       "Day                        0\n",
       "DayofWeek                  0\n",
       "dtype: int64"
      ]
     },
     "execution_count": 20,
     "metadata": {},
     "output_type": "execute_result"
    }
   ],
   "source": [
    "accident.isnull().sum()"
   ]
  },
  {
   "cell_type": "markdown",
   "id": "ba1d2983-948d-45f8-94d0-60f30a3c796a",
   "metadata": {},
   "source": [
    "<h1 style=\"background-color:#578FCA\">2019 ACCIDENT DATA</h1>"
   ]
  },
  {
   "cell_type": "code",
   "execution_count": 21,
   "id": "3cb7bac2-c0e9-487f-b7b2-32a5844cdd95",
   "metadata": {},
   "outputs": [],
   "source": [
    "accident_2019 = accident[accident['Year'] == 2019]\n",
    "accident_2020 = accident[accident['Year'] == 2020]\n",
    "accident_2021 = accident[accident['Year'] == 2021]\n",
    "accident_2022 = accident[accident['Year'] == 2022]"
   ]
  },
  {
   "cell_type": "code",
   "execution_count": null,
   "id": "74194b32-044e-4b55-a685-7e4068f40e2e",
   "metadata": {},
   "outputs": [],
   "source": []
  },
  {
   "cell_type": "markdown",
   "id": "5415f59d-d36d-41f0-9d67-32d68d653ba6",
   "metadata": {},
   "source": [
    "<h2>INSIGHT #1</h2>\n",
    "<h3>What is the total number of casualties across all accidents in 2019?</h3>"
   ]
  },
  {
   "cell_type": "code",
   "execution_count": 22,
   "id": "f9e35efa-0498-4e3d-bfb4-342abed9efc9",
   "metadata": {},
   "outputs": [
    {
     "name": "stdout",
     "output_type": "stream",
     "text": [
      "Total Number of Casualties: 247780\n"
     ]
    }
   ],
   "source": [
    "total_casualties = accident_2019['Number_of_Casualties'].sum()\n",
    "print(f\"Total Number of Casualties: {total_casualties}\")"
   ]
  },
  {
   "cell_type": "markdown",
   "id": "258ce307-80a6-489f-87af-e65d1469c6de",
   "metadata": {},
   "source": [
    "<h3>INSIGHT: The total number of casualties resulting from all accidents in 2019 was 247,780 , representing the cumulative human impact of road accidents during that year.</h3>"
   ]
  },
  {
   "cell_type": "markdown",
   "id": "935fdac7-ba8f-4e5a-8565-b9be622b1b35",
   "metadata": {},
   "source": [
    "<h2>INSIGHT #2</h2>\n",
    "<h3>What is the average number of casualties per accident?</h3>"
   ]
  },
  {
   "cell_type": "code",
   "execution_count": 23,
   "id": "f3a00ce6-a15a-4291-a9a0-e552338e47b7",
   "metadata": {},
   "outputs": [
    {
     "name": "stdout",
     "output_type": "stream",
     "text": [
      "Average Number of Casualties per Accident: 1.36\n"
     ]
    }
   ],
   "source": [
    "average_casualties = accident_2019['Number_of_Casualties'].mean()\n",
    "print(f\"Average Number of Casualties per Accident: {average_casualties:.2f}\")"
   ]
  },
  {
   "cell_type": "markdown",
   "id": "1f9d3f79-b540-45a0-a6ee-1539626bdbd5",
   "metadata": {},
   "source": [
    "<h3>INSIGHT: On average, there were 1.36 casualties per accident , indicating that most accidents involve one or two individuals, with some incidents causing additional harm.</h3>"
   ]
  },
  {
   "cell_type": "markdown",
   "id": "4365f71b-cdb5-4a4a-9188-bff47aa76449",
   "metadata": {},
   "source": [
    "<h2>INSIGHT #3</h2>\n",
    "<h3>What is the total number of vehicles involved in all accidents in 2019?</h3>"
   ]
  },
  {
   "cell_type": "code",
   "execution_count": 24,
   "id": "8a82077e-02fb-464f-a79b-141ce8fa860b",
   "metadata": {},
   "outputs": [
    {
     "name": "stdout",
     "output_type": "stream",
     "text": [
      "Total Number of Vehicles Involved: 334966\n"
     ]
    }
   ],
   "source": [
    "total_vehicles = accident_2019['Number_of_Vehicles'].sum()\n",
    "print(f\"Total Number of Vehicles Involved: {total_vehicles}\")"
   ]
  },
  {
   "cell_type": "markdown",
   "id": "ec38960f-ec07-42ac-9c96-47b55b2e9aa8",
   "metadata": {},
   "source": [
    "<h3>INSIGHT: The total number of vehicles involved in all accidents in 2019 was 334,966 , reflecting the cumulative count of vehicles impacted by road incidents during that year.</h3>"
   ]
  },
  {
   "cell_type": "markdown",
   "id": "82c7a27e-4eba-443b-91cc-7cf98edfa0dd",
   "metadata": {},
   "source": [
    "<h2>INSIGHT #4</h2>\n",
    "<h3>What is the average number of vehicles involved per accident?</h3>"
   ]
  },
  {
   "cell_type": "code",
   "execution_count": 25,
   "id": "23c3a4d3-2522-40a6-b665-99d5cb6cfea8",
   "metadata": {},
   "outputs": [
    {
     "name": "stdout",
     "output_type": "stream",
     "text": [
      "Average Number of Vehicles per Accident: 1.84\n"
     ]
    }
   ],
   "source": [
    "average_vehicles = accident_2019['Number_of_Vehicles'].mean()\n",
    "print(f\"Average Number of Vehicles per Accident: {average_vehicles:.2f}\")"
   ]
  },
  {
   "cell_type": "markdown",
   "id": "74311de8-6cfa-4e9e-89d3-8e5cd00d3f49",
   "metadata": {},
   "source": [
    "<h3>INSIGHT: On average, 1.84 vehicles were involved per accident, indicating that most accidents typically involve one or two vehicles, with some incidents involving additional vehicles.</h3>"
   ]
  },
  {
   "cell_type": "markdown",
   "id": "43dded9c-acf9-4353-aedb-decccad193f5",
   "metadata": {},
   "source": [
    "<h2>INSIGHT #5</h2>\n",
    "<h3>What is the distribution of accident severity based on the provided data?</h3>"
   ]
  },
  {
   "cell_type": "code",
   "execution_count": 26,
   "id": "879ae210-3693-4829-a77c-5c2f2b97d359",
   "metadata": {},
   "outputs": [
    {
     "name": "stdout",
     "output_type": "stream",
     "text": [
      "Accident_Severity\n",
      "Slight     155079\n",
      "Serious     24322\n",
      "Fatal        2714\n",
      "Name: count, dtype: int64\n"
     ]
    }
   ],
   "source": [
    "severity_counts = accident_2019['Accident_Severity'].value_counts()\n",
    "print(severity_counts)"
   ]
  },
  {
   "cell_type": "markdown",
   "id": "e85fd034-28c5-46f2-ac1c-994b0d978a1f",
   "metadata": {},
   "source": [
    "<h3>INSIGHT: Slight accidents account for 85.16% of all incidents, while serious accidents make up 13.36%, and fatal accidents just 1.49%, showing a significant 71.8% gap between slight and serious accidents, and an even larger 83.67% difference between slight and fatal incidents.</h3>"
   ]
  },
  {
   "cell_type": "markdown",
   "id": "e9bf1bac-f86a-4cc3-8720-7a0aaf6b2126",
   "metadata": {},
   "source": [
    "<h2>INSIGHT #6</h2>\n",
    "<h3>What are the number of accidents per month on 2019 based on the provided data?</h3>"
   ]
  },
  {
   "cell_type": "code",
   "execution_count": 27,
   "id": "500fe68e-11e2-4df3-a8b2-d677b5f63f6a",
   "metadata": {},
   "outputs": [
    {
     "name": "stdout",
     "output_type": "stream",
     "text": [
      "Month\n",
      "1     15355\n",
      "2     13253\n",
      "3     15049\n",
      "4     14125\n",
      "5     15833\n",
      "6     15528\n",
      "7     15862\n",
      "8     15044\n",
      "9     15271\n",
      "10    15528\n",
      "11    16559\n",
      "12    14708\n",
      "Name: count, dtype: int64\n"
     ]
    }
   ],
   "source": [
    "monthly_accidents = accident_2019['Month'].value_counts().sort_index()\n",
    "print(monthly_accidents)"
   ]
  },
  {
   "cell_type": "markdown",
   "id": "da89b14b-3142-4afb-a37f-6dc7781203b3",
   "metadata": {},
   "source": [
    "<h3>INSIGHT: Accidents peak in November (16,559 incidents, 9.09% of the total) and dip in February (13,253 incidents, 7.28%), with monthly fluctuations showing a general trend of higher accident rates during the warmer months.</h3>"
   ]
  },
  {
   "cell_type": "markdown",
   "id": "b2b0b358-8bd6-4601-90a7-4891b02288e7",
   "metadata": {},
   "source": [
    "<h2>INSIGHT #7</h2>\n",
    "<h3>Which days of the week experience the highest number of accidents based on the provided data?</h3>"
   ]
  },
  {
   "cell_type": "code",
   "execution_count": 28,
   "id": "8932111e-dd74-45ff-b463-bdd36f4052f1",
   "metadata": {},
   "outputs": [
    {
     "name": "stdout",
     "output_type": "stream",
     "text": [
      "DayofWeek\n",
      "1    26251.0\n",
      "2    26927.0\n",
      "3    27300.0\n",
      "4    27303.0\n",
      "5    29262.0\n",
      "6    24686.0\n",
      "7        NaN\n",
      "Name: count, dtype: float64\n"
     ]
    }
   ],
   "source": [
    "dayofweek_accidents = accident_2019['DayofWeek'].value_counts().reindex([1,2,3,4,5,6,7])\n",
    "print(dayofweek_accidents)"
   ]
  },
  {
   "cell_type": "markdown",
   "id": "4ab5e9f3-c66b-40a3-928e-61f7e0262845",
   "metadata": {},
   "source": [
    "<h3>INSIGHT: Accidents peak on Fridays, accounting for 18.10% of the total, while Saturdays see the lowest frequency at 15.27% , and Mondays start the week with a moderate 16.23% , reflecting varying trends throughout the week.</h3>"
   ]
  },
  {
   "cell_type": "markdown",
   "id": "df07a347-e3b5-4a08-b0bb-8e4f62ceb5f8",
   "metadata": {},
   "source": [
    "<h2>INSIGHT #7</h2>\n",
    "<h3>Comparison of accident on Urban and Rural Areas</h3>"
   ]
  },
  {
   "cell_type": "code",
   "execution_count": 29,
   "id": "298b9558-285c-4e72-8326-d9f612d0deda",
   "metadata": {},
   "outputs": [
    {
     "name": "stdout",
     "output_type": "stream",
     "text": [
      "Urban_or_Rural_Area\n",
      "Urban          114552\n",
      "Rural           67558\n",
      "Unallocated         5\n",
      "Name: count, dtype: int64\n"
     ]
    }
   ],
   "source": [
    "urban_rural_counts = accident_2019['Urban_or_Rural_Area'].value_counts()\n",
    "print(urban_rural_counts)"
   ]
  },
  {
   "cell_type": "markdown",
   "id": "747ff256-8622-4cb6-b980-2e4b3216f1f2",
   "metadata": {},
   "source": [
    "<h3>INSIGHT: Urban areas account for 63.45% of all accidents (114,552 incidents), while rural areas make up 36.54% (67,558 incidents), with less than 0.01% (5 incidents) unallocated, highlighting that urban areas experience significantly more accidents than rural regions.</h3>"
   ]
  },
  {
   "cell_type": "markdown",
   "id": "59063013-9268-4ae3-9dfe-2e06f0b9d976",
   "metadata": {},
   "source": [
    "<h2>INSIGHT #8</h2>\n",
    "<h3>Does weather condition have an impact on the number of accidents?</h3>"
   ]
  },
  {
   "cell_type": "code",
   "execution_count": 30,
   "id": "3054644c-9d2a-45fd-9e83-45cb9bcf31b6",
   "metadata": {},
   "outputs": [
    {
     "name": "stdout",
     "output_type": "stream",
     "text": [
      "Weather_Conditions\n",
      "Fine no high winds       143876\n",
      "Raining no high winds     22835\n",
      "unknown                    4134\n",
      "Other                      4083\n",
      "Raining + high winds       2959\n",
      "Fine + high winds          2545\n",
      "Fog or mist                 857\n",
      "Snowing no high winds       680\n",
      "Snowing + high winds        146\n",
      "Name: count, dtype: int64\n"
     ]
    }
   ],
   "source": [
    "weather_counts = accident_2019['Weather_Conditions'].value_counts()\n",
    "print(weather_counts)"
   ]
  },
  {
   "cell_type": "markdown",
   "id": "20d92730-237f-4904-b74f-8b9fbd675273",
   "metadata": {},
   "source": [
    "<h3>INSIGHT: The majority of accidents occur under \"Fine no high winds\" conditions, accounting for 79.01% (143,876 incidents), followed by \"Raining no high winds\" at 12.54% (22,835 incidents), with rare conditions like \"Snowing + high winds\" making up only 0.08% (146 incidents), showing that most accidents happen in clear or mild weather.</h3>"
   ]
  },
  {
   "cell_type": "markdown",
   "id": "3c158cbe-7a46-4aba-87a5-41dbf159389e",
   "metadata": {},
   "source": [
    "<h2>INSIGHT #9</h2>\n",
    "<h3>Does light condition have an impact on the number of accidents?</h3>"
   ]
  },
  {
   "cell_type": "code",
   "execution_count": 31,
   "id": "9f51eca3-4202-4f1a-bf01-e867e53464ec",
   "metadata": {},
   "outputs": [
    {
     "name": "stdout",
     "output_type": "stream",
     "text": [
      "Light_Conditions\n",
      "Daylight                       133042\n",
      "Darkness - lights lit           35769\n",
      "Darkness - no lighting          10842\n",
      "Darkness - lighting unknown      1768\n",
      "Darkness - lights unlit           694\n",
      "Name: count, dtype: int64\n"
     ]
    }
   ],
   "source": [
    "light_counts = accident_2019['Light_Conditions'].value_counts()\n",
    "print(light_counts)"
   ]
  },
  {
   "cell_type": "markdown",
   "id": "e2518da2-f335-4353-b49d-e0068698b516",
   "metadata": {},
   "source": [
    "<h3>INSIGHT: Daylight accounts for 73.06% (133,042 incidents) of all accidents, while \"Darkness - lights lit\" makes up 19.64% (35,769 incidents), and the least frequent condition, \"Darkness - lights unlit,\" represents only 0.38% (694 incidents), suggesting that visibility plays a significant role in accident frequency.</h3>"
   ]
  },
  {
   "cell_type": "markdown",
   "id": "c16fa3e6-5db2-49c2-abd7-a853e4604126",
   "metadata": {},
   "source": [
    "<h2>INSIGHT #10</h2>\n",
    "<h3>Does the road surface condition have an impact on the number of accidents?</h3>"
   ]
  },
  {
   "cell_type": "code",
   "execution_count": 32,
   "id": "f33c638f-df54-4840-85b7-586fa31c4af2",
   "metadata": {},
   "outputs": [
    {
     "name": "stdout",
     "output_type": "stream",
     "text": [
      "Road_Surface_Conditions\n",
      "Dry                     125348\n",
      "Wet or damp              53153\n",
      "Frost or ice              2569\n",
      "Snow                       534\n",
      "Flood over 3cm. deep       312\n",
      "unknown                    199\n",
      "Name: count, dtype: int64\n"
     ]
    }
   ],
   "source": [
    "road_surface_counts = accident_2019['Road_Surface_Conditions'].value_counts()\n",
    "print(road_surface_counts)"
   ]
  },
  {
   "cell_type": "markdown",
   "id": "2417e69b-cd9f-481b-9158-f9165799ca4e",
   "metadata": {},
   "source": [
    "<h3>INSIGHT: The majority of accidents occur on dry roads, accounting for 68.83% (125,348 incidents), followed by wet or damp conditions at 29.19% (53,153 incidents), while rare conditions like snow and flooding make up only 0.29% (534 incidents) and 0.17% (312 incidents) respectively, indicating that road surface conditions significantly influence accident likelihood.</h3>"
   ]
  },
  {
   "cell_type": "markdown",
   "id": "0a9cee39-4724-4a18-acb5-f8f202528cf4",
   "metadata": {},
   "source": [
    "<h2>INSIGHT #11</h2>\n",
    "<h3>Does the type of vehicle involved have an impact on the number of accidents?</h3>"
   ]
  },
  {
   "cell_type": "code",
   "execution_count": 33,
   "id": "aadb257d-2bf5-4087-aae4-386f676cefa5",
   "metadata": {},
   "outputs": [
    {
     "name": "stdout",
     "output_type": "stream",
     "text": [
      "Vehicle_Type\n",
      "Car                                      130304\n",
      "Bus or coach (17 or more pass seats)      10483\n",
      "Van / Goods 3.5 tonnes mgw or under        9303\n",
      "Motorcycle over 500cc                      7686\n",
      "Goods 7.5 tonnes mgw and over              6247\n",
      "Motorcycle 125cc and under                 4313\n",
      "Taxi/Private hire car                      4230\n",
      "Motorcycle over 125cc and up to 500cc      2446\n",
      "Motorcycle 50cc and under                  2136\n",
      "Goods over 3.5t. and under 7.5t            2049\n",
      "Other vehicle                              1588\n",
      "Agricultural vehicle                        636\n",
      "Minibus (8 - 16 passenger seats)            625\n",
      "Pedal cycle                                  68\n",
      "Ridden horse                                  1\n",
      "Name: count, dtype: int64\n"
     ]
    }
   ],
   "source": [
    "vehicle_type_counts = accident_2019['Vehicle_Type'].value_counts()\n",
    "print(vehicle_type_counts)"
   ]
  },
  {
   "cell_type": "markdown",
   "id": "ee9406c1-b25e-4b2d-ba1b-1fabad726d96",
   "metadata": {},
   "source": [
    "<h3>INSIGHT: Cars are involved in the majority of accidents, accounting for 71.56% (130,304 incidents), followed by buses or coaches at 5.76% (10,483 incidents) and vans/goods vehicles under 3.5 tonnes at 5.11% (9,303 incidents), while rare vehicle types like pedal cycles and ridden horses make up less than 0.01% (68 and 1 incident respectively), highlighting the dominance of cars in accident involvement.</h3>"
   ]
  },
  {
   "cell_type": "markdown",
   "id": "1e0628d0-106f-438e-b399-e025daf496bf",
   "metadata": {},
   "source": [
    "<h2>INSIGHT #12</h2>\n",
    "<h3>What percentage of urban accidents occurred under normal light conditions?</h3>"
   ]
  },
  {
   "cell_type": "code",
   "execution_count": 34,
   "id": "d844636b-3c42-45f0-8328-58a8357166d5",
   "metadata": {},
   "outputs": [
    {
     "name": "stdout",
     "output_type": "stream",
     "text": [
      "Accidents in Urban Areas with Normal Light Conditions:\n",
      "83679\n"
     ]
    }
   ],
   "source": [
    "urban_dark_accidents = accident_2019[(accident_2019['Urban_or_Rural_Area'] == 'Urban') & (accident_2019['Light_Conditions'] == 'Daylight')]\n",
    "print(\"Accidents in Urban Areas with Normal Light Conditions:\")\n",
    "print(len(urban_dark_accidents))"
   ]
  },
  {
   "cell_type": "markdown",
   "id": "10434058-b46c-47a2-b8b7-0d3cdc5d5500",
   "metadata": {},
   "source": [
    "<h3>INSIGHT: Out of the total 114,552 urban accidents , 83,679 (73.05%) occurred under normal light conditions, indicating that the majority of urban accidents happen when visibility is not a significant factor.</h3>"
   ]
  },
  {
   "cell_type": "markdown",
   "id": "ade70dd2-3626-4440-957e-50c826eb673b",
   "metadata": {},
   "source": [
    "<h2>INSIGHT #13</h2>\n",
    "<h3>What percentage of fatal accidents occurred on dry roads?</h3>"
   ]
  },
  {
   "cell_type": "code",
   "execution_count": 35,
   "id": "c67a7fd4-869c-4958-9600-3e251ee66569",
   "metadata": {},
   "outputs": [
    {
     "name": "stdout",
     "output_type": "stream",
     "text": [
      "Fatal Accidents on Dry Roads:\n",
      "1850\n"
     ]
    }
   ],
   "source": [
    "fatal_wet_accidents = accident_2019[(accident_2019['Accident_Severity'] == 'Fatal') & (accident_2019['Road_Surface_Conditions'] == 'Dry')]\n",
    "print(\"Fatal Accidents on Dry Roads:\")\n",
    "print(len(fatal_wet_accidents))"
   ]
  },
  {
   "cell_type": "markdown",
   "id": "05e353e8-3fa7-4759-a755-bbe9d3d93655",
   "metadata": {},
   "source": [
    "<h3>INSIGHT: Out of the total 2,714 fatal accidents , 1,850 (68.17%) occurred on dry roads, indicating that the majority of severe accidents happen when the road surface is dry rather than wet or slippery.</h3>"
   ]
  },
  {
   "cell_type": "markdown",
   "id": "59c077ab-4af7-4fd2-ade5-aad190ed6cfb",
   "metadata": {},
   "source": [
    "<h2>INSIGHT #14</h2>\n",
    "<h3>What percentage of accidents in rural areas involved multiple vehicles?</h3>"
   ]
  },
  {
   "cell_type": "code",
   "execution_count": 36,
   "id": "9d3a19d0-7772-48f3-8468-24eb435c7596",
   "metadata": {},
   "outputs": [
    {
     "name": "stdout",
     "output_type": "stream",
     "text": [
      "Multi-Vehicle Accidents in Rural Areas:\n",
      "46615\n"
     ]
    }
   ],
   "source": [
    "rural_multi_vehicle_accidents = accident_2019[(accident_2019['Urban_or_Rural_Area'] == 'Rural') & (accident_2019['Number_of_Vehicles'] > 1)]\n",
    "print(\"Multi-Vehicle Accidents in Rural Areas:\")\n",
    "print(len(rural_multi_vehicle_accidents))"
   ]
  },
  {
   "cell_type": "markdown",
   "id": "2626caaf-c242-4943-9e91-b42b0d880c48",
   "metadata": {},
   "source": [
    "<h3>INSIGHT: Out of the total 67,558 accidents in rural areas, 46,615 (68.99%) involved multiple vehicles, indicating that multi-vehicle collisions are more common in rural settings.</h3>"
   ]
  },
  {
   "cell_type": "markdown",
   "id": "160c7b73-9016-49bd-b44b-c0b2da9ba0d1",
   "metadata": {},
   "source": [
    "<h2>INSIGHT #15</h2>\n",
    "<h3>What percentage of fatal accidents occurred on dual carriageways during nighttime with lights lit?</h3>"
   ]
  },
  {
   "cell_type": "code",
   "execution_count": 37,
   "id": "a14db892-df9f-4c15-9377-01acff705c0d",
   "metadata": {},
   "outputs": [
    {
     "name": "stdout",
     "output_type": "stream",
     "text": [
      "Fatal Accidents on Dual carriageway with Darkness - lights lit light condition:\n",
      "141\n"
     ]
    }
   ],
   "source": [
    "fatal_dual_dark_accidents = accident_2019[\n",
    "    (accident_2019['Accident_Severity'] == 'Fatal') & \n",
    "    (accident_2019['Road_Type'] == 'Dual carriageway') & \n",
    "    (accident_2019['Light_Conditions'] == 'Darkness - lights lit')]\n",
    "print(\"Fatal Accidents on Dual carriageway with Darkness - lights lit light condition:\")\n",
    "print(len(fatal_dual_dark_accidents))"
   ]
  },
  {
   "cell_type": "markdown",
   "id": "78436369-67d6-4497-94e2-48d73c67c170",
   "metadata": {},
   "source": [
    "<h3>INSIGHT: Out of the total 2,714 fatal accidents , 141 (5.20%) occurred on dual carriageways under the light condition \"Darkness - lights lit,\" indicating that this specific scenario accounts for a small but notable proportion of severe accidents.</h3>"
   ]
  },
  {
   "cell_type": "markdown",
   "id": "8f805c27-62a5-40fc-968d-ae00e0bbdad3",
   "metadata": {},
   "source": [
    "<h2>INSIGHT #16</h2>\n",
    "<h3>How many accidents involving multiple vehicles occurred in urban areas on wet or damp roads?</h3>"
   ]
  },
  {
   "cell_type": "code",
   "execution_count": 38,
   "id": "f20cd5d0-8161-45f6-89cf-76e0532604ad",
   "metadata": {},
   "outputs": [
    {
     "name": "stdout",
     "output_type": "stream",
     "text": [
      "Multi-Vehicle Accidents in Rural Areas with Wet Roads:\n",
      "21242\n"
     ]
    }
   ],
   "source": [
    "rural_multi_vehicle_wet_accidents = accident_2019[\n",
    "    (accident_2019['Urban_or_Rural_Area'] == 'Urban') & \n",
    "    (accident_2019['Number_of_Vehicles'] > 1) & \n",
    "    (accident_2019['Road_Surface_Conditions'] == 'Wet or damp')]\n",
    "print(\"Multi-Vehicle Accidents in Rural Areas with Wet Roads:\")\n",
    "print(len(rural_multi_vehicle_wet_accidents))"
   ]
  },
  {
   "cell_type": "markdown",
   "id": "032c5e09-488a-4df5-9f6e-a40708b49205",
   "metadata": {},
   "source": [
    "<h3>INSIGHT: A total of 21,242 multi-vehicle accidents occurred in urban areas on wet roads, accounting for approximately 18.55% of all urban accidents, highlighting the increased risk of collisions under these conditions.</h3>"
   ]
  },
  {
   "cell_type": "markdown",
   "id": "0c829ec6-02b3-4212-9e66-c1bc46c94ad3",
   "metadata": {},
   "source": [
    "<h2>INSIGHT #17</h2>\n",
    "<h3>How does the number of accidents vary by month and day of the week?</h3>"
   ]
  },
  {
   "cell_type": "code",
   "execution_count": 39,
   "id": "e786d410-cb67-4084-830b-b3b704b8fc26",
   "metadata": {},
   "outputs": [
    {
     "name": "stdout",
     "output_type": "stream",
     "text": [
      "Accidents by Month and Day of the Week:\n",
      "DayofWeek     0     1     2     3     4     5     6\n",
      "Month                                              \n",
      "1          1427  2487  2446  2814  2223  2196  1762\n",
      "2          1373  1957  1900  1991  2047  2215  1770\n",
      "3          1513  1961  1983  1989  2516  2746  2341\n",
      "4          1936  2398  1839  2036  2088  1962  1866\n",
      "5          1747  1815  2710  2753  2603  2237  1968\n",
      "6          1730  1979  2002  2215  2049  2953  2600\n",
      "7          2080  2536  2598  2039  2169  2384  2056\n",
      "8          1801  1772  2013  2453  2371  2589  2045\n",
      "9          1988  2143  2315  2049  2077  2396  2303\n",
      "10         1568  2484  2756  2581  2084  2280  1775\n",
      "11         1558  2220  2439  2250  2887  3215  1990\n",
      "12         1665  2499  1926  2130  2189  2089  2210\n"
     ]
    }
   ],
   "source": [
    "monthly_day_accidents = accident_2019.groupby(['Month', 'DayofWeek']).size().unstack()\n",
    "print(\"Accidents by Month and Day of the Week:\")\n",
    "print(monthly_day_accidents)"
   ]
  },
  {
   "cell_type": "markdown",
   "id": "8a79539f-be51-4e6f-9fec-f5e2e62b5c55",
   "metadata": {},
   "source": [
    "<h3>INSIGHT: Accidents tend to peak on Fridays, with November showing the highest Friday accident count (3,215 incidents ), while February has the lowest overall accident numbers, particularly on Mondays (1,957 incidents ). Sundays consistently have fewer accidents across all months, suggesting reduced traffic or activity levels.</h3>"
   ]
  },
  {
   "cell_type": "markdown",
   "id": "32f39aac-608e-4576-97a2-b3a853ed8c6e",
   "metadata": {},
   "source": [
    "<h2>INSIGHT #18</h2>\n",
    "<h3>How does the number of fatal accidents vary by month?</h3>"
   ]
  },
  {
   "cell_type": "code",
   "execution_count": 40,
   "id": "309e18c8-fdb3-4033-b7ef-378d0303cc7b",
   "metadata": {},
   "outputs": [
    {
     "name": "stdout",
     "output_type": "stream",
     "text": [
      "Fatal Accidents by Month:\n",
      "Month\n",
      "1     239\n",
      "2     173\n",
      "3     212\n",
      "4     231\n",
      "5     230\n",
      "6     201\n",
      "7     225\n",
      "8     260\n",
      "9     225\n",
      "10    245\n",
      "11    238\n",
      "12    235\n",
      "Name: count, dtype: int64\n"
     ]
    }
   ],
   "source": [
    "fatal_accidents = accident_2019[accident_2019['Accident_Severity'] == 'Fatal']\n",
    "fatal_monthly_accidents = fatal_accidents['Month'].value_counts().sort_index()\n",
    "\n",
    "print(\"Fatal Accidents by Month:\")\n",
    "print(fatal_monthly_accidents)"
   ]
  },
  {
   "cell_type": "markdown",
   "id": "1c41e57d-29da-45a8-a33a-3fa66e818cf3",
   "metadata": {},
   "source": [
    "<h3>INSIGHT: Fatal accidents are most frequent in August , accounting for 9.58% of all fatal accidents, while February has the lowest frequency at 6.37% , indicating seasonal variations in accident severity.\n",
    "\n",
    "</h3>"
   ]
  },
  {
   "cell_type": "markdown",
   "id": "46798956-85b4-4a56-a01f-3eae1b079058",
   "metadata": {},
   "source": [
    "<h2>INSIGHT #19</h2>\n",
    "<h3>How does the total number of casualties vary by month and accident severity?</h3>"
   ]
  },
  {
   "cell_type": "code",
   "execution_count": 41,
   "id": "f13fe4cd-8c87-4b0c-b8f0-eb801232b6d3",
   "metadata": {},
   "outputs": [
    {
     "name": "stdout",
     "output_type": "stream",
     "text": [
      "Casualties by Month and Accident Severity:\n",
      "Month  Accident_Severity\n",
      "1      Fatal                  524\n",
      "       Serious               2919\n",
      "       Slight               17319\n",
      "2      Fatal                  354\n",
      "       Serious               2440\n",
      "       Slight               15078\n",
      "3      Fatal                  383\n",
      "       Serious               2882\n",
      "       Slight               17084\n",
      "4      Fatal                  451\n",
      "       Serious               3095\n",
      "       Slight               15686\n",
      "5      Fatal                  478\n",
      "       Serious               2975\n",
      "       Slight               18294\n",
      "6      Fatal                  393\n",
      "       Serious               3090\n",
      "       Slight               17726\n",
      "7      Fatal                  403\n",
      "       Serious               3346\n",
      "       Slight               18097\n",
      "8      Fatal                  500\n",
      "       Serious               3334\n",
      "       Slight               17173\n",
      "9      Fatal                  444\n",
      "       Serious               3123\n",
      "       Slight               17142\n",
      "10     Fatal                  525\n",
      "       Serious               2991\n",
      "       Slight               17361\n",
      "11     Fatal                  460\n",
      "       Serious               3092\n",
      "       Slight               18582\n",
      "12     Fatal                  436\n",
      "       Serious               2809\n",
      "       Slight               16791\n",
      "Name: Number_of_Casualties, dtype: int64\n"
     ]
    }
   ],
   "source": [
    "casualties_by_month_severity = accident_2019.groupby(['Month', 'Accident_Severity'])['Number_of_Casualties'].sum()\n",
    "\n",
    "print(\"Casualties by Month and Accident Severity:\")\n",
    "print(casualties_by_month_severity)"
   ]
  },
  {
   "cell_type": "markdown",
   "id": "01e37f06-95e6-4d85-806b-6dd2d9bf82b3",
   "metadata": {},
   "source": [
    "<h3>INSIGHT: Casualties peak in November , with a total of 22,134 incidents , driven primarily by slight accidents (18,582 , or 84.95% ), while February sees the lowest total casualties (17,872 ), reflecting fewer accidents across all severity levels. Fatalities remain relatively consistent month-to-month, ranging from 354 (February) to 525 (October) , indicating that seasonal factors have a greater impact on slight and serious accidents than on fatalities.</h3>"
   ]
  },
  {
   "cell_type": "markdown",
   "id": "69a42e31-89cc-4b0a-a955-0ea4235eed9b",
   "metadata": {},
   "source": [
    "<h2>INSIGHT #20</h2>\n",
    "<h3>How does the number of accidents vary by day of the week and light conditions?</h3>"
   ]
  },
  {
   "cell_type": "code",
   "execution_count": 42,
   "id": "0e7a1052-e996-4e47-97e5-52645a7c7596",
   "metadata": {},
   "outputs": [
    {
     "name": "stdout",
     "output_type": "stream",
     "text": [
      "Accidents by Day of the Week and Light Conditions:\n",
      "DayofWeek  Light_Conditions           \n",
      "0          Darkness - lighting unknown      264\n",
      "           Darkness - lights lit           4986\n",
      "           Darkness - lights unlit           68\n",
      "           Darkness - no lighting          1540\n",
      "           Daylight                       13528\n",
      "1          Darkness - lighting unknown      227\n",
      "           Darkness - lights lit           4825\n",
      "           Darkness - lights unlit           98\n",
      "           Darkness - no lighting          1409\n",
      "           Daylight                       19692\n",
      "2          Darkness - lighting unknown      252\n",
      "           Darkness - lights lit           4602\n",
      "           Darkness - lights unlit           90\n",
      "           Darkness - no lighting          1452\n",
      "           Daylight                       20531\n",
      "3          Darkness - lighting unknown      235\n",
      "           Darkness - lights lit           4662\n",
      "           Darkness - lights unlit          111\n",
      "           Darkness - no lighting          1411\n",
      "           Daylight                       20881\n",
      "4          Darkness - lighting unknown      248\n",
      "           Darkness - lights lit           4876\n",
      "           Darkness - lights unlit          104\n",
      "           Darkness - no lighting          1601\n",
      "           Daylight                       20474\n",
      "5          Darkness - lighting unknown      294\n",
      "           Darkness - lights lit           5922\n",
      "           Darkness - lights unlit          121\n",
      "           Darkness - no lighting          1771\n",
      "           Daylight                       21154\n",
      "6          Darkness - lighting unknown      248\n",
      "           Darkness - lights lit           5896\n",
      "           Darkness - lights unlit          102\n",
      "           Darkness - no lighting          1658\n",
      "           Daylight                       16782\n",
      "dtype: int64\n"
     ]
    }
   ],
   "source": [
    "day_light_accidents = accident_2019.groupby(['DayofWeek', 'Light_Conditions']).size()\n",
    "\n",
    "print(\"Accidents by Day of the Week and Light Conditions:\")\n",
    "print(day_light_accidents)"
   ]
  },
  {
   "cell_type": "markdown",
   "id": "a88dea2d-2edf-4148-939a-40e5ec408923",
   "metadata": {},
   "source": [
    "<h3>INSIGHT: Daylight accounts for the majority of accidents across all days of the week (7.43%-11.24% ), while poor light conditions such as \"Darkness - lights lit\" contribute significantly on weekends (up to 3.24% on Saturdays ), highlighting the impact of visibility and activity levels on accident patterns.</h3>"
   ]
  },
  {
   "cell_type": "code",
   "execution_count": null,
   "id": "b3c70fc1-88db-493f-8922-3c185cc1bd3f",
   "metadata": {},
   "outputs": [],
   "source": []
  },
  {
   "cell_type": "markdown",
   "id": "482fe1d2-509c-4b15-9b8d-084b92c0b5e6",
   "metadata": {},
   "source": [
    "<h2>INSIGHT #21</h2>\n",
    "<h3>Is there a statistically significant correlation between the number of vehicles involved in an accident and the number of casualties?</h3>"
   ]
  },
  {
   "cell_type": "code",
   "execution_count": 43,
   "id": "40cc1a01-ffc8-4c7e-acd6-54cece35e6c0",
   "metadata": {},
   "outputs": [
    {
     "name": "stdout",
     "output_type": "stream",
     "text": [
      "\n",
      "Correlation Between Number of Vehicles and Casualties:\n",
      "                      Number_of_Vehicles  Number_of_Casualties\n",
      "Number_of_Vehicles              1.000000              0.224921\n",
      "Number_of_Casualties            0.224921              1.000000\n"
     ]
    }
   ],
   "source": [
    "corr19 = accident_2019[['Number_of_Vehicles', 'Number_of_Casualties']].corr()\n",
    "print(\"\\nCorrelation Between Number of Vehicles and Casualties:\")\n",
    "print(corr19)"
   ]
  },
  {
   "cell_type": "markdown",
   "id": "1ad47ebd-3595-4e8e-a3f4-2c0c58ae9bc6",
   "metadata": {},
   "source": [
    "<h3>INSIGHT: The weak positive correlation of 0.225 between the number of vehicles involved in an accident and the number of casualties is statistically significant (p-value ≪ 0.05) due to the large sample size of 660,679 accidents, indicating a meaningful but modest relationship where more vehicles tend to result in slightly more casualties, though other factors likely contribute significantly to casualty numbers.</h3>"
   ]
  },
  {
   "cell_type": "markdown",
   "id": "b86c7235-cd44-4951-9b4e-3789fcd4cff0",
   "metadata": {},
   "source": [
    "<h1 style=\"background-color:#578FCA\">DATA ANALYSIS BETWEEN 2020 - 2021 (During and a year after pandemic)</h1>"
   ]
  },
  {
   "cell_type": "code",
   "execution_count": 44,
   "id": "71be052a-4486-414b-ab1c-0c672538bc52",
   "metadata": {},
   "outputs": [],
   "source": [
    "pandemic = accident[accident['Year'].isin([2020, 2021])]"
   ]
  },
  {
   "cell_type": "markdown",
   "id": "3c0b2ea9-ccd7-422c-8936-714e8cd85886",
   "metadata": {},
   "source": [
    "<h2>INSIGHT #22</h2>\n",
    "<h3>What was the total number of accidents during the pandemic years 2020 and 2021, and how do the individual yearly totals compare?</h3>"
   ]
  },
  {
   "cell_type": "code",
   "execution_count": 45,
   "id": "4a701914-5253-465e-ab95-63c54714b511",
   "metadata": {},
   "outputs": [
    {
     "name": "stdout",
     "output_type": "stream",
     "text": [
      "Total Accidents During the Pandemic (2020–2021): 334145\n",
      "Year\n",
      "2020    170591\n",
      "2021    163554\n",
      "dtype: int64\n"
     ]
    }
   ],
   "source": [
    "total_accidents_pandemic = pandemic.groupby('Year').size()\n",
    "overall_total = total_accidents_pandemic.sum()\n",
    "print(f\"Total Accidents During the Pandemic (2020–2021): {overall_total}\")\n",
    "print(total_accidents_pandemic)"
   ]
  },
  {
   "cell_type": "markdown",
   "id": "1700a6e2-3937-4740-89cf-7d5c4880efbb",
   "metadata": {},
   "source": [
    "<h3>INSIGHT: The total number of accidents during the pandemic (2020–2021) was 334,145, with 170,591 in 2020 and 163,554 in 2021. This represents a 4.1% decrease from 2020 to 2021.</h3>"
   ]
  },
  {
   "cell_type": "markdown",
   "id": "b8bf895d-11a6-4fba-ab12-62a22c270aac",
   "metadata": {},
   "source": [
    "<h2>INSIGHT #23</h2>\n",
    "<h3>What was the total number of casualties during the pandemic years 2020 and 2021, and what percentage decrease occurred from 2020 to 2021?</h3>"
   ]
  },
  {
   "cell_type": "code",
   "execution_count": 46,
   "id": "0864bf9d-7019-4a55-bd3d-ceb9cc5f73c3",
   "metadata": {},
   "outputs": [
    {
     "name": "stdout",
     "output_type": "stream",
     "text": [
      "Total Casualties During the Pandemic:453051\n",
      "Year\n",
      "2020    230905\n",
      "2021    222146\n",
      "Name: Number_of_Casualties, dtype: int64\n"
     ]
    }
   ],
   "source": [
    "total_casualties_by_year = pandemic.groupby('Year')['Number_of_Casualties'].sum()\n",
    "total_casualties_combined = total_casualties_by_year.sum()\n",
    "print(f\"Total Casualties During the Pandemic:{total_casualties_combined}\")\n",
    "print(total_casualties_by_year)"
   ]
  },
  {
   "cell_type": "markdown",
   "id": "a15c87b1-4f39-4199-ad01-30fe2c8a9980",
   "metadata": {},
   "source": [
    "<h3>INSIGHT: The total number of casualties during the pandemic (2020–2021) was 453,051, with 230,905 in 2020 and 222,146 in 2021. This represents a 3.8% decrease from 2020 to 2021.</h3>"
   ]
  },
  {
   "cell_type": "markdown",
   "id": "7abe6333-202f-4d32-982d-22230f2f0be3",
   "metadata": {},
   "source": [
    "<h2>INSIGHT #24</h2>\n",
    "<h3>What was the total number of fatal accidents during the pandemic years 2020 and 2021, and what percentage decrease occurred from 2020 to 2021?</h3>"
   ]
  },
  {
   "cell_type": "code",
   "execution_count": 47,
   "id": "9cf0a47e-9768-4fbd-936a-53181a610b37",
   "metadata": {},
   "outputs": [
    {
     "name": "stdout",
     "output_type": "stream",
     "text": [
      "Fatal Accidents During the Pandemic: 4398\n",
      "Year\n",
      "2020    2341\n",
      "2021    2057\n",
      "dtype: int64\n"
     ]
    }
   ],
   "source": [
    "fatal_accidents = pandemic[pandemic['Accident_Severity'] == 'Fatal']\n",
    "fatal_accidents_by_year = fatal_accidents.groupby('Year').size()\n",
    "fatal_accidents_combined = fatal_accidents_by_year.sum()\n",
    "\n",
    "print(f\"Fatal Accidents During the Pandemic: {fatal_accidents_combined}\")\n",
    "print(fatal_accidents_by_year)"
   ]
  },
  {
   "cell_type": "markdown",
   "id": "d9c64daa-5e9d-48dd-8519-2abd29d7664e",
   "metadata": {},
   "source": [
    "<h3>INSIGHT: The total number of fatal accidents during the pandemic (2020–2021) was 4,398, with 2,341 in 2020 and 2,057 in 2021. This represents a 12.1% decrease from 2020 to 2021.</h3>"
   ]
  },
  {
   "cell_type": "markdown",
   "id": "4ea17952-1386-4285-a667-f963f28f6749",
   "metadata": {},
   "source": [
    "<h2>INSIGHT #25</h2>\n",
    "<h3>How does the number of accidents in urban and rural areas compare for 2020, 2021, and their combined total, and what percentage of total accidents do rural and urban areas represent during the pandemic?</h3>"
   ]
  },
  {
   "cell_type": "code",
   "execution_count": 48,
   "id": "616cca61-3ad4-4c47-9012-6e03dabb0c5d",
   "metadata": {},
   "outputs": [
    {
     "name": "stdout",
     "output_type": "stream",
     "text": [
      "Accidents in Urban vs. Rural Areas During the Pandemic:\n",
      "Urban_or_Rural_Area  Rural  Unallocated   Urban\n",
      "Year                                           \n",
      "2020                 61991            6  108594\n",
      "2021                 59016            0  104538\n",
      "\n",
      "Combined Total Accidents by Area Type: 334145\n",
      "Urban_or_Rural_Area\n",
      "Rural          121007\n",
      "Unallocated         6\n",
      "Urban          213132\n",
      "dtype: int64\n"
     ]
    }
   ],
   "source": [
    "urban_rural_accidents_by_year = pandemic.groupby(['Year', 'Urban_or_Rural_Area']).size().unstack()\n",
    "urban_rural_accidents_combined = urban_rural_accidents_by_year.sum()\n",
    "total_accidents = urban_rural_accidents_combined.sum()\n",
    "\n",
    "print(\"Accidents in Urban vs. Rural Areas During the Pandemic:\")\n",
    "print(urban_rural_accidents_by_year)\n",
    "\n",
    "print(f\"\\nCombined Total Accidents by Area Type: {total_accidents}\")\n",
    "print(urban_rural_accidents_combined)"
   ]
  },
  {
   "cell_type": "markdown",
   "id": "fc6c42c0-9e39-40a5-b33e-495dc18311ff",
   "metadata": {},
   "source": [
    "<h3>INSIGHT: The combined total number of accidents during the pandemic was 334,145 , with 121,007 (36.2%) occurring in rural areas and 213,132 (63.8%) in urban areas. From 2020 to 2021, urban accidents decreased from 108,594 to 104,538 (3.7% decrease ), while rural accidents decreased from 61,991 to 59,016 (4.8% decrease ). This indicates urban areas consistently accounted for the majority of accidents, but both areas saw declines over the period.</h3>"
   ]
  },
  {
   "cell_type": "markdown",
   "id": "f058eae6-7ab9-4dfc-99a2-5f3a1364fcbc",
   "metadata": {},
   "source": [
    "<h2>INSIGHT #26</h2>"
   ]
  },
  {
   "cell_type": "code",
   "execution_count": 49,
   "id": "a462abc8-ac1f-448c-9988-75be998addde",
   "metadata": {},
   "outputs": [
    {
     "name": "stdout",
     "output_type": "stream",
     "text": [
      "Multi-Vehicle Accidents During the Pandemic: 231344\n",
      "Year\n",
      "2020    118086\n",
      "2021    113258\n",
      "dtype: int64\n"
     ]
    }
   ],
   "source": [
    "multi_vehicle_accidents = pandemic[pandemic['Number_of_Vehicles'] > 1]\n",
    "multi_vehicle_by_year = multi_vehicle_accidents.groupby('Year').size()\n",
    "multi_vehicle_combined = multi_vehicle_by_year.sum()\n",
    "\n",
    "print(f\"Multi-Vehicle Accidents During the Pandemic: {multi_vehicle_combined}\")\n",
    "print(multi_vehicle_by_year)"
   ]
  },
  {
   "cell_type": "markdown",
   "id": "9c565745-ba5f-47d1-9ee2-2d33b6d4e389",
   "metadata": {},
   "source": [
    "<h3>INSIGHT: The total number of multi-vehicle accidents during the pandemic (2020–2021) was 231,344 , with 118,086 in 2020 and 113,258 in 2021. This represents a 4.1% decrease from 2020 to 2021.</h3>"
   ]
  },
  {
   "cell_type": "markdown",
   "id": "cd71f22a-0d6c-4ff2-9d9d-cf27589588e9",
   "metadata": {},
   "source": [
    "<h1 style=\"background-color:#578FCA>INSIGHT FROM YEAR 2019 - 2022</h1>"
   ]
  },
  {
   "cell_type": "markdown",
   "id": "d4437a3d-d35f-4198-9496-5f12e138ba60",
   "metadata": {},
   "source": [
    "<h1 style=\"background-color:#578FCA\">ACCIDENT DATA FROM YEAR 2019 - 2022</h1>"
   ]
  },
  {
   "cell_type": "markdown",
   "id": "09148138-e9eb-496b-a27c-d4c08d718883",
   "metadata": {},
   "source": [
    "<h2>INSIGHT #27</h2>\n",
    "<h3>How does the total number of accidents vary for each year?</h3>"
   ]
  },
  {
   "cell_type": "code",
   "execution_count": 50,
   "id": "d631eb66-6eb0-4f86-a165-c192d0a8f552",
   "metadata": {},
   "outputs": [
    {
     "name": "stdout",
     "output_type": "stream",
     "text": [
      "Total number of casualties from 2019 - 2022: 896568\n",
      "Year\n",
      "2019    247780\n",
      "2020    230905\n",
      "2021    222146\n",
      "2022    195737\n",
      "Name: Number_of_Casualties, dtype: int64\n"
     ]
    }
   ],
   "source": [
    "total_casualties_by_year = accident.groupby('Year')['Number_of_Casualties'].sum()\n",
    "combined_casualties = total_casualties_by_year.sum()\n",
    "\n",
    "\n",
    "print(f'Total number of casualties from 2019 - 2022: {combined_casualties}')\n",
    "print(total_casualties_by_year)"
   ]
  },
  {
   "cell_type": "markdown",
   "id": "8146ab07-630b-4029-be06-10d2ce63d02c",
   "metadata": {},
   "source": [
    "<h3>INSIGHT: From 2019 to 2020, the number of accidents decreased by 6.8%. Between 2020 and 2021, the decrease was 3.8%, and from 2021 to 2022, the number of accidents dropped by 11.9%. This shows a consistent decline in accidents over the years, with the largest decrease occurring from 2021 to 2022.</h3>"
   ]
  },
  {
   "cell_type": "markdown",
   "id": "e692ff41-8c94-416e-bf82-a1a6537eacf4",
   "metadata": {},
   "source": [
    "<h2>INSIGHT #28</h2>\n",
    "<h3>What is the average number of casualties per accident per year?</h3>"
   ]
  },
  {
   "cell_type": "code",
   "execution_count": 51,
   "id": "e22c1c90-3d81-48a8-8caa-f7ced19ef88f",
   "metadata": {},
   "outputs": [
    {
     "name": "stdout",
     "output_type": "stream",
     "text": [
      "Year\n",
      "2019    1.360569\n",
      "2020    1.353559\n",
      "2021    1.358243\n",
      "2022    1.355341\n",
      "Name: Number_of_Casualties, dtype: float64\n"
     ]
    }
   ],
   "source": [
    "avg_casualties_by_year = accident.groupby('Year')['Number_of_Casualties'].mean()\n",
    "print(avg_casualties_by_year)"
   ]
  },
  {
   "cell_type": "markdown",
   "id": "f084703a-7766-4663-aeb4-594651afd7d6",
   "metadata": {},
   "source": [
    "<h3>INSIGHT: The average number of casualties per accident per year from 2019 to 2022 is approximately 1.358.</h3>"
   ]
  },
  {
   "cell_type": "markdown",
   "id": "16e22824-f7ef-4db1-ae90-5e06e6edd41e",
   "metadata": {},
   "source": [
    "<h2>INSIGHT #29</h2>\n",
    "<h3>How does the number of accidents in Urban and Rural Areas vary for each year, and what is their total number?</h3>"
   ]
  },
  {
   "cell_type": "code",
   "execution_count": 52,
   "id": "ea46627e-b621-47ab-82c5-09b987b873df",
   "metadata": {},
   "outputs": [
    {
     "name": "stdout",
     "output_type": "stream",
     "text": [
      "Urban_or_Rural_Area  Rural  Unallocated   Urban\n",
      "Year                                           \n",
      "2019                 67558            5  114552\n",
      "2020                 61991            6  108594\n",
      "2021                 59016            0  104538\n",
      "2022                 50425            0   93994\n",
      "\n",
      "Urban_or_Rural_Area\n",
      "Rural          238990\n",
      "Unallocated        11\n",
      "Urban          421678\n",
      "dtype: int64\n"
     ]
    }
   ],
   "source": [
    "urban_rural_accidents_by_year = accident.groupby(['Year', 'Urban_or_Rural_Area']).size().unstack()\n",
    "combined_ur_accidents = urban_rural_accidents_by_year.sum()\n",
    "\n",
    "print(urban_rural_accidents_by_year)\n",
    "print(f'\\n{combined_ur_accidents}')"
   ]
  },
  {
   "cell_type": "markdown",
   "id": "c1707a96-4069-4b51-8dfb-521a65c99d8c",
   "metadata": {},
   "source": [
    "<h3>INSIGHT: The number of accidents in both urban and rural areas has generally decreased from 2019 to 2022, with rural accidents declining more significantly. In total, there were 238,990 accidents in rural areas and 421,678 accidents in urban areas over this period.</h3>"
   ]
  },
  {
   "cell_type": "markdown",
   "id": "acc8b969-c321-405a-aebd-1e325c4daad0",
   "metadata": {},
   "source": [
    "<h2>INSIGHT #30</h2>\n",
    "<h3>How does the number of casualties based on the road type vary from each year?</h3>"
   ]
  },
  {
   "cell_type": "code",
   "execution_count": null,
   "id": "c7123dd3-e75d-4ab3-9059-d5238cf2ecbf",
   "metadata": {},
   "outputs": [],
   "source": []
  },
  {
   "cell_type": "code",
   "execution_count": 53,
   "id": "70232f09-111c-4ea9-892d-0e6abf147a5c",
   "metadata": {},
   "outputs": [
    {
     "name": "stdout",
     "output_type": "stream",
     "text": [
      "Road_Type  Dual carriageway  One way street  Roundabout  Single carriageway  \\\n",
      "Year                                                                          \n",
      "2019                  41549            4570       14798              184053   \n",
      "2020                  37960            4213       14459              171738   \n",
      "2021                  35456            3890       14145              166197   \n",
      "2022                  31912            3499       12683              145422   \n",
      "\n",
      "Road_Type  Slip road  \n",
      "Year                  \n",
      "2019            2810  \n",
      "2020            2535  \n",
      "2021            2458  \n",
      "2022            2221  \n",
      "\n",
      "Road_Type\n",
      "Dual carriageway      146877\n",
      "One way street         16172\n",
      "Roundabout             56085\n",
      "Single carriageway    667410\n",
      "Slip road              10024\n",
      "dtype: int64\n"
     ]
    }
   ],
   "source": [
    "casualties_by_road_type = accident.groupby(['Year', 'Road_Type'])['Number_of_Casualties'].sum().unstack()\n",
    "casualties_by_road_type_combined = casualties_by_road_type.sum()\n",
    "\n",
    "print(casualties_by_road_type)\n",
    "print(f'\\n{casualties_by_road_type_combined}')"
   ]
  },
  {
   "cell_type": "markdown",
   "id": "0a83de52-101f-4ace-a6b2-700f5ce1467a",
   "metadata": {},
   "source": [
    "<h3>INSIGHT: The number of casualties across various road types has generally decreased from 2019 to 2022, with casualties on dual carriageways dropping from 41,549 to 31,912, one-way streets from 4,570 to 3,499, roundabouts from 14,798 to 12,683, single carriageways from 184,053 to 145,422, and slip roads from 2,810 to 2,221.</h3>"
   ]
  },
  {
   "cell_type": "code",
   "execution_count": null,
   "id": "f7bf2da5-10b2-4978-b341-f56579541931",
   "metadata": {},
   "outputs": [],
   "source": []
  }
 ],
 "metadata": {
  "kernelspec": {
   "display_name": "Python 3 (ipykernel)",
   "language": "python",
   "name": "python3"
  },
  "language_info": {
   "codemirror_mode": {
    "name": "ipython",
    "version": 3
   },
   "file_extension": ".py",
   "mimetype": "text/x-python",
   "name": "python",
   "nbconvert_exporter": "python",
   "pygments_lexer": "ipython3",
   "version": "3.13.2"
  }
 },
 "nbformat": 4,
 "nbformat_minor": 5
}
